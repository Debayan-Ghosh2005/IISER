{
 "cells": [
  {
   "cell_type": "markdown",
   "id": "b66b5a90",
   "metadata": {},
   "source": [
    "# Using KNN for one-shot/few-shot"
   ]
  },
  {
   "cell_type": "code",
   "execution_count": 2,
   "id": "5c14e6db",
   "metadata": {},
   "outputs": [
    {
     "name": "stderr",
     "output_type": "stream",
     "text": [
      "C:\\Users\\DEBAYAN\\AppData\\Local\\Temp\\ipykernel_3440\\1090127762.py:11: DeprecationWarning: DataFrameGroupBy.apply operated on the grouping columns. This behavior is deprecated, and in a future version of pandas the grouping columns will be excluded from the operation. Either pass `include_groups=False` to exclude the groupings or explicitly select the grouping columns after groupby to silence this warning.\n",
      "  one_shot_labeled = df.groupby('label').apply(lambda x: x.sample(1, random_state=42)).reset_index(drop=True)\n"
     ]
    },
    {
     "name": "stdout",
     "output_type": "stream",
     "text": [
      "KNN One-Shot F1 Score: 0.5688\n"
     ]
    }
   ],
   "source": [
    "import pandas as pd\n",
    "import numpy as np\n",
    "from sklearn.neighbors import KNeighborsClassifier\n",
    "from sklearn.metrics import f1_score\n",
    "from sklearn.preprocessing import StandardScaler\n",
    "\n",
    "# === Step 1: Load dataset ===\n",
    "df = pd.read_csv(\"data.csv\")\n",
    "\n",
    "# === Step 2: One-shot labeled data - 1 sample per class ===\n",
    "one_shot_labeled = df.groupby('label').apply(lambda x: x.sample(1, random_state=42)).reset_index(drop=True)\n",
    "unlabeled_data = df.drop(one_shot_labeled.index)\n",
    "\n",
    "# === Step 3: Define features and scale ===\n",
    "features = ['age', 'physical_activity_days', 'processed_food_meals', \n",
    "            'sleep_hours', 'smoking_status', 'alcohol_consumption']\n",
    "\n",
    "scaler = StandardScaler()\n",
    "\n",
    "X_labeled = scaler.fit_transform(one_shot_labeled[features])\n",
    "y_labeled = one_shot_labeled['label']\n",
    "\n",
    "X_unlabeled = scaler.transform(unlabeled_data[features])\n",
    "y_unlabeled_true = unlabeled_data['label']\n",
    "\n",
    "# === Step 4: Train KNN with n_neighbors=1 to avoid errors ===\n",
    "knn = KNeighborsClassifier(n_neighbors=1)\n",
    "knn.fit(X_labeled, y_labeled)\n",
    "\n",
    "# === Step 5: Predict and evaluate ===\n",
    "y_pred = knn.predict(X_unlabeled)\n",
    "f1 = f1_score(y_unlabeled_true, y_pred)\n",
    "print(f\"KNN One-Shot F1 Score: {f1:.4f}\")\n"
   ]
  },
  {
   "cell_type": "markdown",
   "id": "a217c2da",
   "metadata": {},
   "source": [
    "# 2. Using SMOTE for data augmentation (few-shot scenario)\n"
   ]
  },
  {
   "cell_type": "code",
   "execution_count": 3,
   "id": "3d977f76",
   "metadata": {},
   "outputs": [
    {
     "name": "stdout",
     "output_type": "stream",
     "text": [
      "F1 Score after SMOTE: 0.5867\n"
     ]
    }
   ],
   "source": [
    "# Import necessary libraries\n",
    "from imblearn.over_sampling import SMOTE\n",
    "from sklearn.ensemble import RandomForestClassifier\n",
    "from sklearn.metrics import f1_score\n",
    "from sklearn.preprocessing import StandardScaler\n",
    "import pandas as pd\n",
    "import numpy as np\n",
    "\n",
    "# Load dataset\n",
    "df = pd.read_csv(\"data.csv\")\n",
    "\n",
    "# Simulate small labeled set: 10% labeled data\n",
    "np.random.seed(42)\n",
    "df['label_known'] = 0\n",
    "known_indices = np.random.choice(df.index, size=int(0.1 * len(df)), replace=False)\n",
    "df.loc[known_indices, 'label_known'] = 1\n",
    "\n",
    "labeled_data = df[df['label_known'] == 1]\n",
    "unlabeled_data = df[df['label_known'] == 0]\n",
    "\n",
    "features = ['age', 'physical_activity_days', 'processed_food_meals', \n",
    "            'sleep_hours', 'smoking_status', 'alcohol_consumption']\n",
    "\n",
    "# Scale features\n",
    "scaler = StandardScaler()\n",
    "X_labeled = scaler.fit_transform(labeled_data[features])\n",
    "y_labeled = labeled_data['label']\n",
    "\n",
    "# Apply SMOTE to augment minority class samples\n",
    "smote = SMOTE(random_state=42)\n",
    "X_labeled_resampled, y_labeled_resampled = smote.fit_resample(X_labeled, y_labeled)\n",
    "\n",
    "# Prepare unlabeled data\n",
    "X_unlabeled = scaler.transform(unlabeled_data[features])\n",
    "y_unlabeled_true = unlabeled_data['label']\n",
    "\n",
    "# Train RandomForest on augmented data\n",
    "model = RandomForestClassifier(random_state=42)\n",
    "model.fit(X_labeled_resampled, y_labeled_resampled)\n",
    "\n",
    "# Predict and evaluate\n",
    "y_pred = model.predict(X_unlabeled)\n",
    "print(f\"F1 Score after SMOTE: {f1_score(y_unlabeled_true, y_pred):.4f}\")\n"
   ]
  },
  {
   "cell_type": "markdown",
   "id": "a7df9133",
   "metadata": {},
   "source": [
    "# 3. Hyperparameter tuning for KNN with GridSearchCV"
   ]
  },
  {
   "cell_type": "code",
   "execution_count": 4,
   "id": "c2bf58c5",
   "metadata": {},
   "outputs": [
    {
     "name": "stdout",
     "output_type": "stream",
     "text": [
      "Best KNN params: {'metric': 'euclidean', 'n_neighbors': 1, 'weights': 'uniform'}\n",
      "F1 Score with tuned KNN: 0.5338\n"
     ]
    }
   ],
   "source": [
    "from sklearn.model_selection import GridSearchCV\n",
    "from sklearn.neighbors import KNeighborsClassifier\n",
    "from sklearn.preprocessing import StandardScaler\n",
    "from sklearn.metrics import f1_score\n",
    "import pandas as pd\n",
    "import numpy as np\n",
    "\n",
    "df = pd.read_csv(\"data.csv\")\n",
    "\n",
    "# Use 10% labeled for training\n",
    "np.random.seed(42)\n",
    "df['label_known'] = 0\n",
    "known_indices = np.random.choice(df.index, size=int(0.1 * len(df)), replace=False)\n",
    "df.loc[known_indices, 'label_known'] = 1\n",
    "\n",
    "labeled_data = df[df['label_known'] == 1]\n",
    "unlabeled_data = df[df['label_known'] == 0]\n",
    "\n",
    "features = ['age', 'physical_activity_days', 'processed_food_meals', \n",
    "            'sleep_hours', 'smoking_status', 'alcohol_consumption']\n",
    "\n",
    "scaler = StandardScaler()\n",
    "X_labeled = scaler.fit_transform(labeled_data[features])\n",
    "y_labeled = labeled_data['label']\n",
    "\n",
    "X_unlabeled = scaler.transform(unlabeled_data[features])\n",
    "y_unlabeled_true = unlabeled_data['label']\n",
    "\n",
    "knn = KNeighborsClassifier()\n",
    "param_grid = {\n",
    "    'n_neighbors': [1, 3, 5, 7],\n",
    "    'weights': ['uniform', 'distance'],\n",
    "    'metric': ['euclidean', 'manhattan']\n",
    "}\n",
    "\n",
    "grid_search = GridSearchCV(knn, param_grid, scoring='f1', cv=3)\n",
    "grid_search.fit(X_labeled, y_labeled)\n",
    "\n",
    "best_knn = grid_search.best_estimator_\n",
    "y_pred = best_knn.predict(X_unlabeled)\n",
    "print(f\"Best KNN params: {grid_search.best_params_}\")\n",
    "print(f\"F1 Score with tuned KNN: {f1_score(y_unlabeled_true, y_pred):.4f}\")\n"
   ]
  }
 ],
 "metadata": {
  "kernelspec": {
   "display_name": "Python 3",
   "language": "python",
   "name": "python3"
  },
  "language_info": {
   "codemirror_mode": {
    "name": "ipython",
    "version": 3
   },
   "file_extension": ".py",
   "mimetype": "text/x-python",
   "name": "python",
   "nbconvert_exporter": "python",
   "pygments_lexer": "ipython3",
   "version": "3.12.10"
  }
 },
 "nbformat": 4,
 "nbformat_minor": 5
}
