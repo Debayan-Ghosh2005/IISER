{
 "cells": [
  {
   "cell_type": "code",
   "execution_count": 2,
   "id": "c80fe746",
   "metadata": {},
   "outputs": [
    {
     "name": "stdout",
     "output_type": "stream",
     "text": [
      "F1 score per class: [0.66666667 0.28571429 0.66666667]\n",
      "Micro-average F1 score: 0.5454545454545454\n",
      "Macro-average F1 score: 0.5396825396825397\n",
      "Weighted-average F1 score: 0.5627705627705627\n"
     ]
    }
   ],
   "source": [
    "from sklearn.metrics import f1_score\n",
    "\n",
    "y_true = [0, 1, 2, 2, 2, 2, 1, 0, 2, 1, 0]\n",
    "y_pred = [0, 0, 2, 2, 1, 2, 1, 0, 1, 2, 1]\n",
    "\n",
    "f1_per_class = f1_score(y_true, y_pred, average=None)\n",
    "f1_micro = f1_score(y_true, y_pred, average='micro')\n",
    "f1_macro = f1_score(y_true, y_pred, average='macro')\n",
    "f1_weighted = f1_score(y_true, y_pred, average='weighted')\n",
    "\n",
    "print(\"F1 score per class:\", f1_per_class)\n",
    "print(\"Micro-average F1 score:\", f1_micro)\n",
    "print(\"Macro-average F1 score:\", f1_macro)\n",
    "print(\"Weighted-average F1 score:\", f1_weighted)"
   ]
  },
  {
   "cell_type": "code",
   "execution_count": 3,
   "id": "513aeb41",
   "metadata": {},
   "outputs": [
    {
     "name": "stdout",
     "output_type": "stream",
     "text": [
      "                 Country      Code  Year Continent\n",
      "0               Abkhazia  OWID_ABK  2015      Asia\n",
      "1            Afghanistan       AFG  2015      Asia\n",
      "2  Akrotiri and Dhekelia  OWID_AKD  2015      Asia\n",
      "3          Aland Islands       ALA  2015    Europe\n",
      "4                Albania       ALB  2015    Europe\n"
     ]
    }
   ],
   "source": [
    "import pandas as pd\n",
    "\n",
    "# Load the CSV file\n",
    "df = pd.read_csv(\"data.csv\")\n",
    "\n",
    "print(df.head())\n"
   ]
  },
  {
   "cell_type": "code",
   "execution_count": null,
   "id": "8ed0df45",
   "metadata": {},
   "outputs": [
    {
     "name": "stdout",
     "output_type": "stream",
     "text": [
      "F1 score for Africa: 0.3750\n",
      "F1 score for Antarctica: 0.0000\n",
      "F1 score for Asia: 0.0952\n",
      "F1 score for Europe: 0.4242\n",
      "F1 score for North America: 0.0000\n",
      "F1 score for Oceania: 0.0000\n",
      "F1 score for South America: 0.0000\n",
      "Micro-average F1 score: 0.2456\n",
      "Macro-average F1 score: 0.1278\n",
      "Weighted-average F1 score: 0.2278\n"
     ]
    }
   ],
   "source": [
    "import pandas as pd\n",
    "from sklearn.model_selection import train_test_split\n",
    "from sklearn.ensemble import RandomForestClassifier\n",
    "from sklearn.metrics import f1_score\n",
    "from sklearn.preprocessing import LabelEncoder\n",
    "\n",
    "# Load dataset\n",
    "df = pd.read_csv('data1.csv')\n",
    "\n",
    "# Drop rows with missing continent (if any)\n",
    "df = df.dropna(subset=['Continent'])\n",
    "\n",
    "# Encode categorical features\n",
    "le_country = LabelEncoder()\n",
    "le_code = LabelEncoder()\n",
    "le_continent = LabelEncoder()\n",
    "\n",
    "df['Country'] = le_country.fit_transform(df['Country'])\n",
    "df['Code'] = le_code.fit_transform(df['Code'])\n",
    "df['Continent'] = le_continent.fit_transform(df['Continent'])\n",
    "\n",
    "# Define features and target\n",
    "X = df[['Country', 'Code', 'Year']]\n",
    "y = df['Continent']\n",
    "\n",
    "# Split the dataset\n",
    "X_train, X_test, y_train, y_test = train_test_split(X, y, test_size=0.2, random_state=42)\n",
    "\n",
    "# Train model\n",
    "model = RandomForestClassifier(random_state=42)\n",
    "model.fit(X_train, y_train)\n",
    "\n",
    "# Predict\n",
    "y_pred = model.predict(X_test)\n",
    "\n",
    "# F1 scores\n",
    "f1_per_class = f1_score(y_test, y_pred, average=None)\n",
    "f1_micro = f1_score(y_test, y_pred, average='micro')\n",
    "f1_macro = f1_score(y_test, y_pred, average='macro')\n",
    "f1_weighted = f1_score(y_test, y_pred, average='weighted')\n",
    "\n",
    "# Decode continent labels back\n",
    "class_names = le_continent.inverse_transform(list(range(len(f1_per_class))))\n",
    "\n",
    "# Output\n",
    "for name, score in zip(class_names, f1_per_class):\n",
    "    print(f\"F1 score for {name}: {score:.4f}\")\n",
    "print(\"Micro-average F1 score:\", round(f1_micro, 4))\n",
    "print(\"Macro-average F1 score:\", round(f1_macro, 4))\n",
    "print(\"Weighted-average F1 score:\", round(f1_weighted, 4))\n"
   ]
  },
  {
   "cell_type": "code",
   "execution_count": null,
   "id": "7e3a6396",
   "metadata": {},
   "outputs": [],
   "source": [
    "import pandas as pd\n",
    "from sklearn.metrics import f1_score, classification_report, confusion_matrix\n",
    "from sklearn.model_selection import train_test_split\n",
    "from sklearn.ensemble import RandomForestClassifier\n",
    "import seaborn as sns\n",
    "import matplotlib.pyplot as plt\n",
    "\n",
    "# Load your dataset\n",
    "df = pd.read_csv(\"data1.csv\")\n",
    "\n",
    "# Separate features and labels\n",
    "X = df.drop(\"target\", axis=1)  # Replace 'target' with your actual label column name\n",
    "y = df[\"target\"]\n",
    "\n",
    "# Train-test split\n",
    "X_train, X_test, y_train, y_test = train_test_split(X, y, test_size=0.2, random_state=42)\n",
    "\n",
    "# Train model\n",
    "model = RandomForestClassifier()\n",
    "model.fit(X_train, y_train)\n",
    "\n",
    "# Make predictions\n",
    "y_pred = model.predict(X_test)\n",
    "\n",
    "# Optional: get class names if needed\n",
    "class_names = sorted(y.unique().astype(str))\n",
    "\n",
    "# F1 Scores\n",
    "f1_per_class = f1_score(y_test, y_pred, average=None)\n",
    "f1_micro = f1_score(y_test, y_pred, average='micro')\n",
    "f1_macro = f1_score(y_test, y_pred, average='macro')\n",
    "f1_weighted = f1_score(y_test, y_pred, average='weighted')\n",
    "\n",
    "print(\"F1 score per class:\", f1_per_class)\n",
    "print(\"Micro-average F1 score:\", f1_micro)\n",
    "print(\"Macro-average F1 score:\", f1_macro)\n",
    "print(\"Weighted-average F1 score:\", f1_weighted)\n",
    "\n",
    "# Classification report\n",
    "print(\"\\nClassification Report:\\n\")\n",
    "print(classification_report(y_test, y_pred, target_names=class_names))\n",
    "\n",
    "# Confusion matrix\n",
    "cm = confusion_matrix(y_test, y_pred)\n",
    "plt.figure(figsize=(8, 6))\n",
    "sns.heatmap(cm, annot=True, fmt='d', cmap='Blues', xticklabels=class_names, yticklabels=class_names)\n",
    "plt.xlabel(\"Predicted\")\n",
    "plt.ylabel(\"Actual\")\n",
    "plt.title(\"Confusion Matrix\")\n",
    "plt.show()\n"
   ]
  },
  {
   "cell_type": "code",
   "execution_count": 1,
   "id": "9f9095a5",
   "metadata": {},
   "outputs": [
    {
     "ename": "NameError",
     "evalue": "name 'y_test' is not defined",
     "output_type": "error",
     "traceback": [
      "\u001b[1;31m---------------------------------------------------------------------------\u001b[0m",
      "\u001b[1;31mNameError\u001b[0m                                 Traceback (most recent call last)",
      "Cell \u001b[1;32mIn[1], line 6\u001b[0m\n\u001b[0;32m      3\u001b[0m \u001b[38;5;28;01mimport\u001b[39;00m \u001b[38;5;21;01mmatplotlib\u001b[39;00m\u001b[38;5;21;01m.\u001b[39;00m\u001b[38;5;21;01mpyplot\u001b[39;00m \u001b[38;5;28;01mas\u001b[39;00m \u001b[38;5;21;01mplt\u001b[39;00m\n\u001b[0;32m      5\u001b[0m \u001b[38;5;66;03m# Classification report\u001b[39;00m\n\u001b[1;32m----> 6\u001b[0m \u001b[38;5;28mprint\u001b[39m(classification_report(\u001b[43my_test\u001b[49m, y_pred, target_names\u001b[38;5;241m=\u001b[39mclass_names))\n\u001b[0;32m      8\u001b[0m \u001b[38;5;66;03m# Confusion matrix\u001b[39;00m\n\u001b[0;32m      9\u001b[0m cm \u001b[38;5;241m=\u001b[39m confusion_matrix(y_test, y_pred)\n",
      "\u001b[1;31mNameError\u001b[0m: name 'y_test' is not defined"
     ]
    }
   ],
   "source": [
    "from sklearn.metrics import classification_report, confusion_matrix\n",
    "import seaborn as sns\n",
    "import matplotlib.pyplot as plt\n",
    "\n",
    "# Classification report\n",
    "print(classification_report(y_test, y_pred, target_names=class_names))\n",
    "\n",
    "# Confusion matrix\n",
    "cm = confusion_matrix(y_test, y_pred)\n",
    "sns.heatmap(cm, annot=True, xticklabels=class_names, yticklabels=class_names, cmap='Blues', fmt='g')\n",
    "plt.xlabel('Predicted')\n",
    "plt.ylabel('Actual')\n",
    "plt.title('Confusion Matrix')\n",
    "plt.show()\n"
   ]
  }
 ],
 "metadata": {
  "kernelspec": {
   "display_name": "Python 3",
   "language": "python",
   "name": "python3"
  },
  "language_info": {
   "codemirror_mode": {
    "name": "ipython",
    "version": 3
   },
   "file_extension": ".py",
   "mimetype": "text/x-python",
   "name": "python",
   "nbconvert_exporter": "python",
   "pygments_lexer": "ipython3",
   "version": "3.12.10"
  }
 },
 "nbformat": 4,
 "nbformat_minor": 5
}
